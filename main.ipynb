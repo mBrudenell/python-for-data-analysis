{
 "cells": [
  {
   "cell_type": "markdown",
   "metadata": {},
   "source": [
    "## **Chapter 2**"
   ]
  },
  {
   "cell_type": "code",
   "execution_count": 44,
   "metadata": {},
   "outputs": [
    {
     "name": "stdout",
     "output_type": "stream",
     "text": [
      "True\n"
     ]
    }
   ],
   "source": [
    "a = [1, 2, 3]\n",
    "b = a\n",
    "\n",
    "# print(id(a), id(b))\n",
    "\n",
    "if id(a) == id(b):\n",
    "    print(True) "
   ]
  },
  {
   "cell_type": "code",
   "execution_count": 45,
   "metadata": {},
   "outputs": [
    {
     "name": "stdout",
     "output_type": "stream",
     "text": [
      "True\n"
     ]
    }
   ],
   "source": [
    "name = 'Mhairi'\n",
    "MhairiBrudenell44 = name\n",
    "\n",
    "if id(name) == id(MhairiBrudenell44):\n",
    "    print(True)"
   ]
  },
  {
   "cell_type": "code",
   "execution_count": 46,
   "metadata": {},
   "outputs": [
    {
     "data": {
      "text/plain": [
       "True"
      ]
     },
     "execution_count": 46,
     "metadata": {},
     "output_type": "execute_result"
    }
   ],
   "source": [
    "isinstance(b, int)\n",
    "\n",
    "b = 4\n",
    "\n",
    "isinstance(b, int)\n",
    "\n",
    "name = 'Mhairi'\n",
    "nickname = name\n",
    "\n",
    "isinstance(nickname, str)"
   ]
  },
  {
   "cell_type": "code",
   "execution_count": 47,
   "metadata": {},
   "outputs": [
    {
     "data": {
      "text/plain": [
       "3"
      ]
     },
     "execution_count": 47,
     "metadata": {},
     "output_type": "execute_result"
    }
   ],
   "source": [
    "c = \"\"\"\n",
    "This is a long string\n",
    "that spans multiple lines\n",
    "\"\"\" \n",
    "\n",
    "c.count(\"\\n\")"
   ]
  },
  {
   "cell_type": "code",
   "execution_count": 48,
   "metadata": {},
   "outputs": [],
   "source": [
    "template = \"{0:.2f} {1:s}\"\n",
    "\n",
    "#{0:.2f} format third argument as an exact integer \n",
    "#{1:s} = format second argument as a string\n",
    "\n"
   ]
  },
  {
   "cell_type": "code",
   "execution_count": 49,
   "metadata": {},
   "outputs": [
    {
     "data": {
      "text/plain": [
       "'10 Pesos is worth US$0.11'"
      ]
     },
     "execution_count": 49,
     "metadata": {},
     "output_type": "execute_result"
    }
   ],
   "source": [
    "#f-string\n",
    "\n",
    "amount = 10\n",
    "rate = 88.46\n",
    "currency = \"Pesos\" \n",
    "\n",
    "#This gives you the amoutn divided by rate with lots of decimal places \n",
    "result = f\"{amount} {currency} is worth US${amount / rate}\"\n",
    "\n",
    "result\n",
    "\n",
    "#This gives you it to two decimal places (:.2f)\n",
    "f\"{amount} {currency} is worth US${amount / rate:.2f}\"\n",
    "\n",
    "#f = for floats \n",
    "#d = for ints \n",
    "#s = string \n"
   ]
  },
  {
   "cell_type": "code",
   "execution_count": 50,
   "metadata": {},
   "outputs": [
    {
     "data": {
      "text/plain": [
       "True"
      ]
     },
     "execution_count": 50,
     "metadata": {},
     "output_type": "execute_result"
    }
   ],
   "source": [
    "s = \"3.14159\"\n",
    "\n",
    "fval = float(s)\n",
    "\n",
    "type(fval)\n",
    "\n",
    "int(fval)\n",
    "\n",
    "bool(fval)\n",
    "\n",
    "bool(1)\n",
    "\n"
   ]
  },
  {
   "cell_type": "code",
   "execution_count": 51,
   "metadata": {},
   "outputs": [
    {
     "data": {
      "text/plain": [
       "datetime.datetime(2011, 10, 29, 20, 30, 21)"
      ]
     },
     "execution_count": 51,
     "metadata": {},
     "output_type": "execute_result"
    }
   ],
   "source": [
    "from datetime import datetime, date, time\n",
    "\n",
    "dt = datetime(2011, 10, 29, 20, 30, 21)\n",
    "\n",
    "dt.year\n",
    "\n",
    "dt.minute\n",
    "\n",
    "dt.date()\n",
    "\n",
    "dt.time()\n",
    "\n",
    "#formatting a datatime as a string \n",
    "\n",
    "dt.strftime(\"%Y-%m-%d %H:%M:%S\")\n",
    "\n",
    "#parsing data into a string \n",
    "\n",
    "datetime.strptime(\"20010211\", \"%Y%m%d\")\n",
    "\n",
    "#replacing fields with 0\n",
    "\n",
    "dt_hour = dt.replace(minute=0, second=0)\n",
    "dt_hour \n",
    "\n",
    "#datetime.datetime is immutable, so the before example produces new objects, so dt.replace doesnt modify it. \n",
    "\n",
    "dt"
   ]
  },
  {
   "cell_type": "code",
   "execution_count": 52,
   "metadata": {},
   "outputs": [
    {
     "data": {
      "text/plain": [
       "datetime.datetime(2011, 11, 15, 22, 30)"
      ]
     },
     "execution_count": 52,
     "metadata": {},
     "output_type": "execute_result"
    }
   ],
   "source": [
    "#you can add and take away datetimes - this is called a datetime.timedeltatype\n",
    "\n",
    "dt2 = datetime(2011, 11, 15, 22, 30)\n",
    "\n",
    "delta = dt2 - dt\n",
    "\n",
    "delta \n",
    "\n",
    "type(delta)\n",
    "type(dt2)\n",
    "type(dt)\n",
    "\n",
    "#these are all datetime \n",
    "\n",
    "dt\n",
    "\n",
    "dt + delta \n"
   ]
  },
  {
   "cell_type": "markdown",
   "metadata": {},
   "source": [
    "# **Chapter 3**"
   ]
  },
  {
   "cell_type": "code",
   "execution_count": 53,
   "metadata": {},
   "outputs": [
    {
     "data": {
      "text/plain": [
       "2"
      ]
     },
     "execution_count": 53,
     "metadata": {},
     "output_type": "execute_result"
    }
   ],
   "source": [
    "#tuples are immutable and are seperated by '' and , \n",
    "tup = (1, 2, 3, 4)\n",
    "tup\n",
    "\n",
    "#you can make a tuple by using tuple and [] \n",
    "\n",
    "tuple([1, 2, 3, 4])\n",
    "\n",
    "tup = tuple('string')\n",
    "tup\n",
    "\n",
    "#finding and printing elements by index \n",
    "\n",
    "tup[2] \n",
    "\n",
    "#making a nested tuple - use () \n",
    "\n",
    "nested_tup = (1, 2, 3, 4), (9, 8, 7, 6)\n",
    "nested_tup \n",
    "\n",
    "nested_tup[1]\n",
    "\n",
    "#objects in tuples are mutable, but once tuple is created its not possible to change which object is stored in what slot.\n",
    "\n",
    "#tup = tuple(['foo', [1, 2], True])\n",
    "\n",
    "#tup[2] = False \n",
    "\n",
    "#above we get an error\n",
    "\n",
    "#adding tuples\n",
    "\n",
    "(4, None, 'foo') + (6, 0) + ('bar',)\n",
    "\n",
    "#using multuply to make 4 copies \n",
    "\n",
    "('foo', 'bar') * 4 \n",
    "\n",
    "#assigning tuples to values \n",
    "\n",
    "tup = (4, 5, 6)\n",
    "\n",
    "a, b, c = tup \n",
    "\n",
    "a\n",
    "\n",
    "#even nestled ones can be used \n",
    "\n",
    "tup = (4, 6), 1, 2\n",
    "\n",
    "(a, b), c, d = tup \n",
    "\n",
    "d \n",
    "\n",
    "#swapping variable names \n",
    "\n"
   ]
  },
  {
   "cell_type": "code",
   "execution_count": 54,
   "metadata": {},
   "outputs": [
    {
     "data": {
      "text/plain": [
       "[0, 1, 2, 3, 4, 5, 6, 7, 8, 9]"
      ]
     },
     "execution_count": 54,
     "metadata": {},
     "output_type": "execute_result"
    }
   ],
   "source": [
    "#lists are mutable \n",
    "\n",
    "my_list = [1, 2, 3, 4]\n",
    "my_list\n",
    "\n",
    "tup = ('foo', 'bar', 'baz')\n",
    "tup\n",
    "\n",
    "b_list = list(tup)\n",
    "b_list \n",
    "\n",
    "#adding an element to a list and giving an index of where to add it \n",
    "\n",
    "b_list[1] = 'peekaboo' \n",
    "\n",
    "b_list \n",
    "\n",
    "#lists are mainly used to materialize an iterator or generator expression - For example \n",
    "\n",
    "gen = range(10)\n",
    "\n",
    "gen \n",
    "\n",
    "list(gen) \n"
   ]
  },
  {
   "cell_type": "code",
   "execution_count": 55,
   "metadata": {},
   "outputs": [
    {
     "data": {
      "text/plain": [
       "[1, 2, 2, 4, 7, 8, 9, 10]"
      ]
     },
     "execution_count": 55,
     "metadata": {},
     "output_type": "execute_result"
    }
   ],
   "source": [
    "#turning columns values in a data frame to list values. \n",
    "\n",
    "#values = df [colum_name].tolist() \n",
    "\n",
    "#slicing \n",
    "\n",
    "seq = [1, 2, 3, 4, 5, 6, 7, 8, 9, 10]\n",
    "seq[1:5]\n",
    "\n",
    "#insering/swapping numbers \n",
    "\n",
    "seq[2:6] = [2, 4]\n",
    "seq"
   ]
  },
  {
   "cell_type": "code",
   "execution_count": 56,
   "metadata": {},
   "outputs": [
    {
     "data": {
      "text/plain": [
       "{'a': 'some values', 'b': 'foo', 7: 'numbers', 'c': 12}"
      ]
     },
     "execution_count": 56,
     "metadata": {},
     "output_type": "execute_result"
    }
   ],
   "source": [
    "#dictionaries \n",
    "\n",
    "empty_dict = {}\n",
    "\n",
    "d1 = {\"a\": 'some values', \"b\": [1, 2, 3, 4]}\n",
    "\n",
    "d1\n",
    "\n",
    "d1[7] = 'numbers'\n",
    "\n",
    "d1\n",
    "\n",
    "d1[\"b\"]\n",
    "\n",
    "\"m\" in d1\n",
    "\n",
    "#deleting values\n",
    "\n",
    "d1[5] = \"some values\"\n",
    "\n",
    "d1\n",
    "\n",
    "d1[\"dummy\"] = \"another value\"\n",
    "\n",
    "d1\n",
    "\n",
    "del d1[5]\n",
    "\n",
    "d1\n",
    "\n",
    "#returning a value - returning a value deletes the key \n",
    "\n",
    "ret = d1.pop(\"dummy\")\n",
    "\n",
    "ret\n",
    "\n",
    "list(d1.keys())\n",
    "\n",
    "list(d1.values())\n",
    "\n",
    "list(d1.items())\n",
    "\n",
    "#merging dictionaries \n",
    "\n",
    "d1.update({\"b\": \"foo\", \"c\": 12})\n",
    "\n",
    "d1"
   ]
  },
  {
   "cell_type": "code",
   "execution_count": 57,
   "metadata": {},
   "outputs": [
    {
     "ename": "NameError",
     "evalue": "name 'df' is not defined",
     "output_type": "error",
     "traceback": [
      "\u001b[0;31m---------------------------------------------------------------------------\u001b[0m",
      "\u001b[0;31mNameError\u001b[0m                                 Traceback (most recent call last)",
      "Cell \u001b[0;32mIn[57], line 3\u001b[0m\n\u001b[1;32m      1\u001b[0m \u001b[38;5;66;03m#finidng quartiles of a column \u001b[39;00m\n\u001b[0;32m----> 3\u001b[0m \u001b[43mdf\u001b[49m\u001b[38;5;241m.\u001b[39mcolumnname\u001b[38;5;241m.\u001b[39mquantile([\u001b[38;5;241m0.25\u001b[39m,\u001b[38;5;241m0.5\u001b[39m,\u001b[38;5;241m0.75\u001b[39m])\n\u001b[1;32m      5\u001b[0m \u001b[38;5;66;03m#0.25 finds the first one, 0.5 the second one, and 0.75 the third one \u001b[39;00m\n\u001b[1;32m      6\u001b[0m \n\u001b[1;32m      7\u001b[0m \u001b[38;5;66;03m#boxplot using seaborn \u001b[39;00m\n\u001b[1;32m      9\u001b[0m ns\u001b[38;5;241m.\u001b[39mboxplot(data\u001b[38;5;241m=\u001b[39mdata,y\u001b[38;5;241m=\u001b[39m\u001b[38;5;124m'\u001b[39m\u001b[38;5;124mcolumnname\u001b[39m\u001b[38;5;124m'\u001b[39m,) \n",
      "\u001b[0;31mNameError\u001b[0m: name 'df' is not defined"
     ]
    }
   ],
   "source": [
    "#finidng quartiles of a column \n",
    "\n",
    "df.columnname.quantile([0.25,0.5,0.75])\n",
    "\n",
    "#0.25 finds the first one, 0.5 the second one, and 0.75 the third one \n",
    "\n",
    "#boxplot using seaborn \n",
    "\n",
    "ns.boxplot(data=data,y='columnname',) "
   ]
  },
  {
   "cell_type": "code",
   "execution_count": null,
   "metadata": {},
   "outputs": [
    {
     "data": {
      "text/plain": [
       "{'mhairi': 22, 'james': 24, 'aggie': 80, 'wilbur': 10}"
      ]
     },
     "execution_count": 43,
     "metadata": {},
     "output_type": "execute_result"
    }
   ],
   "source": [
    "#making a dictionary from two lists\n",
    "\n",
    "names = ['mhairi', 'james', 'aggie', 'wilbur']\n",
    "ages = [22, 24, 80, 10]\n",
    "\n",
    "mapping = {}\n",
    "for key, value in zip(names,ages):\n",
    "    mapping[key] = value\n",
    "\n",
    "figures=dict(mapping)\n",
    "\n",
    "figures"
   ]
  },
  {
   "cell_type": "code",
   "execution_count": null,
   "metadata": {},
   "outputs": [
    {
     "data": {
      "text/plain": [
       "{'mhairi': 22, 'james': 24, 'aggie': 80, 'athini': 54}"
      ]
     },
     "execution_count": 16,
     "metadata": {},
     "output_type": "execute_result"
    }
   ],
   "source": [
    "names= 'mhairi','james','aggie','athini'\n",
    "ages= 22, 24, 80, 54\n",
    "mapping = {}\n",
    "for key, value in zip (names,ages):\n",
    "    mapping[key]=value\n",
    "fig=dict(mapping)\n",
    "fig\n",
    "\n"
   ]
  },
  {
   "cell_type": "code",
   "execution_count": null,
   "metadata": {},
   "outputs": [
    {
     "data": {
      "text/plain": [
       "{'mhairi': 22, 'james': 24, 'rhiona': 26, 'murdo': 24}"
      ]
     },
     "execution_count": 20,
     "metadata": {},
     "output_type": "execute_result"
    }
   ],
   "source": [
    "names = 'mhairi', 'james', 'rhiona', 'murdo'\n",
    "ages = 22, 24, 26, 24\n",
    "\n",
    "phonebook_names = {}\n",
    "for key, value in zip (names,ages):\n",
    "    phonebook_names[key] = value\n",
    "\n",
    "things = dict(phonebook_names)\n",
    "things"
   ]
  },
  {
   "cell_type": "code",
   "execution_count": null,
   "metadata": {},
   "outputs": [],
   "source": [
    "#ordering lists \n",
    "\n",
    "words = [\"apple\", \"pear\", \"pinnaple\", \"peach\", \"bannana\", \"blueberry\"]\n",
    "\n",
    "by_letter = {}\n",
    "\n",
    "for word in words:\n",
    "    letter = word[0]\n",
    "    by_letter.setdefault(letter, []).append(word)\n",
    "\n",
    "by_letter\n",
    "\n",
    "#easier way of doing this using collections module\n",
    "from collections import defaultdict\n",
    "by_letter = defaultdict(list)\n",
    "for word in words:\n",
    "    by_letter[word[0]].append(word)"
   ]
  },
  {
   "cell_type": "code",
   "execution_count": null,
   "metadata": {},
   "outputs": [
    {
     "data": {
      "text/plain": [
       "{(1, 2, 3, 4): 5}"
      ]
     },
     "execution_count": 45,
     "metadata": {},
     "output_type": "execute_result"
    }
   ],
   "source": [
    "#hashability testing - seeing if an object is mutable and can be used as a key in a dict.\n",
    "hash(\"string\")\n",
    "hash((1,2,(2,3)))\n",
    "#this fails as lists are mutable \n",
    "hash((1,2,[2,3]))\n",
    "\n",
    "#to use a list as a key you can change it into a tuple as these are immutable. \n",
    "d = {}\n",
    "d[tuple([1,2,3,4])] = 5\n",
    "d"
   ]
  },
  {
   "cell_type": "code",
   "execution_count": null,
   "metadata": {},
   "outputs": [
    {
     "data": {
      "text/plain": [
       "{1, 2, 3}"
      ]
     },
     "execution_count": 13,
     "metadata": {},
     "output_type": "execute_result"
    }
   ],
   "source": [
    "#sets (an unordered collection of unique elements)\n",
    "\n",
    "set([2,2,2,1,3,3])\n",
    "\n"
   ]
  },
  {
   "cell_type": "code",
   "execution_count": null,
   "metadata": {},
   "outputs": [
    {
     "data": {
      "text/plain": [
       "['DOVE', 'PYTHON']"
      ]
     },
     "execution_count": 1,
     "metadata": {},
     "output_type": "execute_result"
    }
   ],
   "source": [
    "#Filtering out strings larger than 2 characters and changing them to upper case\n",
    "\n",
    "strings = [\"a\", \"as\", \"bat\", \"car\", \"dove\", \"python\"]\n",
    "[x.upper() for x in strings if len(x) > 2]\n"
   ]
  },
  {
   "cell_type": "code",
   "execution_count": 61,
   "metadata": {},
   "outputs": [
    {
     "data": {
      "text/plain": [
       "['Maria', 'Natalia']"
      ]
     },
     "execution_count": 61,
     "metadata": {},
     "output_type": "execute_result"
    }
   ],
   "source": [
    "#nested list comprehensions\n",
    "all_data = [[\"John\", \"Emily\", \"Micheal\", \"Mary\", \"Steven\"],\n",
    "           [\"Maria\", \"Juan\", \"Javier\", \"Natalia\", \"Pilar\"]]\n",
    "\n",
    "#merging lists, leaving out names with less than 2 'a's, using a for loop.\n",
    "names_of_interest = []\n",
    "\n",
    "for names in all_data:\n",
    "    enough_as = [name for name in names if name.count(\"a\") >= 2]\n",
    "    #adding this to the empty list \n",
    "    names_of_interest.extend(enough_as)\n",
    "\n",
    "names_of_interest\n",
    "\n",
    "[print(name) for name in names]\n",
    "\n"
   ]
  },
  {
   "cell_type": "code",
   "execution_count": null,
   "metadata": {},
   "outputs": [],
   "source": []
  }
 ],
 "metadata": {
  "kernelspec": {
   "display_name": "pythonDataAnalysis",
   "language": "python",
   "name": "python3"
  },
  "language_info": {
   "codemirror_mode": {
    "name": "ipython",
    "version": 3
   },
   "file_extension": ".py",
   "mimetype": "text/x-python",
   "name": "python",
   "nbconvert_exporter": "python",
   "pygments_lexer": "ipython3",
   "version": "3.12.0"
  }
 },
 "nbformat": 4,
 "nbformat_minor": 2
}
